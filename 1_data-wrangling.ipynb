{
 "cells": [
  {
   "cell_type": "markdown",
   "metadata": {},
   "source": [
    "# Estimating Gestational Diabetes Onset\n",
    "\n",
    "## Data Wrangling and EDA"
   ]
  },
  {
   "cell_type": "code",
   "execution_count": 1,
   "metadata": {},
   "outputs": [],
   "source": [
    "import pandas as pd"
   ]
  },
  {
   "cell_type": "markdown",
   "metadata": {},
   "source": [
    "### Gathering the data\n",
    "\n",
    "<p>All of the data had been saved to a mobile app called One Touch Reveal, a popular tracking app for ppeople with diabetes and their healthcare professionals. I was able to log into the website application and load a report with all of my data and although there was an export function it was unhelpful for this project; it compiled a pdf file. There was also an API working to generate the report, but it was not accessible to me.</p>\n",
    "<p>I ended up scraping the data via a javascript function that I run directly on the page. The output was a JSON string that I then copied and pasted into a file that I could then import below.</p>\n",
    "<p>Here is the javascript function that I used:</p>"
   ]
  },
  {
   "cell_type": "raw",
   "metadata": {},
   "source": [
    "function getData() {\n",
    "    const myTable = $('table.datatable');\n",
    "    const myRows = myTable.children().children('.bgRow');\n",
    "\n",
    "    const records = []\n",
    "    \n",
    "    \n",
    "    // loop through tr.bgRow\n",
    "    myRows.each((i,el) => {\n",
    "\n",
    "        const row = $(el);\n",
    "        const cols = row.children();\n",
    "\n",
    "        const first = cols.eq(0);\n",
    "\n",
    "        var rowType = first.text();\n",
    "        var detailTableClassSelector = `.${rowType == 'BG' ? 'bg' : 'carb'}detailtable`;\n",
    "\n",
    "\n",
    "        // loop through cells in current row\n",
    "        cols.each((i,el) => {\n",
    "\n",
    "            const col = $(el);\n",
    "            const value = col.find('.liner').text().trim();\n",
    "\n",
    "\n",
    "            // if current cell has a value then it has the class 'toolTip'\n",
    "            if( col.hasClass('toolTip') ) {\n",
    "                const metaTableCols = col.find(`${detailTableClassSelector} td`);\n",
    "\n",
    "                // save the data of the current cell\n",
    "                records.push([\n",
    "                    first.text(), \n",
    "\n",
    "                    // grab the first value in the tooltip --> timestamp\n",
    "                    metaTableCols.eq(0).text(),\n",
    "\n",
    "                    // grab the second value in the tooltip --> value\n",
    "                    metaTableCols.eq(1).text(),\n",
    "\n",
    "                    // grab the third value in the tooltip --> notes\n",
    "                    metaTableCols.eq(2).text()\n",
    "                ])\n",
    "            };\n",
    "\n",
    "        });\n",
    "\n",
    "    });\n",
    "\n",
    "    console.log(JSON.stringify(records));\n",
    "}\n",
    "getData();"
   ]
  },
  {
   "cell_type": "code",
   "execution_count": null,
   "metadata": {},
   "outputs": [],
   "source": [
    "data = pd.read_json('onetouch.json')\n",
    "data.columns = ['type', 'timestamp', 'value', 'notes']"
   ]
  },
  {
   "cell_type": "code",
   "execution_count": 7,
   "metadata": {},
   "outputs": [
    {
     "data": {
      "text/html": [
       "<div>\n",
       "<style scoped>\n",
       "    .dataframe tbody tr th:only-of-type {\n",
       "        vertical-align: middle;\n",
       "    }\n",
       "\n",
       "    .dataframe tbody tr th {\n",
       "        vertical-align: top;\n",
       "    }\n",
       "\n",
       "    .dataframe thead th {\n",
       "        text-align: right;\n",
       "    }\n",
       "</style>\n",
       "<table border=\"1\" class=\"dataframe\">\n",
       "  <thead>\n",
       "    <tr style=\"text-align: right;\">\n",
       "      <th></th>\n",
       "      <th>type</th>\n",
       "      <th>timestamp</th>\n",
       "      <th>value</th>\n",
       "      <th>notes</th>\n",
       "    </tr>\n",
       "  </thead>\n",
       "  <tbody>\n",
       "    <tr>\n",
       "      <th>0</th>\n",
       "      <td>BG</td>\n",
       "      <td>Mar 11, 2021 7:11:14 am</td>\n",
       "      <td>104 mg/dL</td>\n",
       "      <td>Before Meal</td>\n",
       "    </tr>\n",
       "    <tr>\n",
       "      <th>1</th>\n",
       "      <td>BG</td>\n",
       "      <td>Mar 11, 2021 9:20:03 am</td>\n",
       "      <td>121 mg/dL</td>\n",
       "      <td>No Tag, 20 minutes late... Struggled with punc...</td>\n",
       "    </tr>\n",
       "    <tr>\n",
       "      <th>2</th>\n",
       "      <td>BG</td>\n",
       "      <td>Mar 11, 2021 2:35:58 pm</td>\n",
       "      <td>119 mg/dL</td>\n",
       "      <td>No Tag</td>\n",
       "    </tr>\n",
       "    <tr>\n",
       "      <th>3</th>\n",
       "      <td>BG</td>\n",
       "      <td>Mar 11, 2021 7:54:56 pm</td>\n",
       "      <td>87 mg/dL</td>\n",
       "      <td>No Tag, Might have tested slightly before an h...</td>\n",
       "    </tr>\n",
       "    <tr>\n",
       "      <th>4</th>\n",
       "      <td>Carbs</td>\n",
       "      <td>Mar 11, 2021 8:01:00 am</td>\n",
       "      <td>26 g</td>\n",
       "      <td></td>\n",
       "    </tr>\n",
       "  </tbody>\n",
       "</table>\n",
       "</div>"
      ],
      "text/plain": [
       "    type                timestamp      value  \\\n",
       "0     BG  Mar 11, 2021 7:11:14 am  104 mg/dL   \n",
       "1     BG  Mar 11, 2021 9:20:03 am  121 mg/dL   \n",
       "2     BG  Mar 11, 2021 2:35:58 pm  119 mg/dL   \n",
       "3     BG  Mar 11, 2021 7:54:56 pm   87 mg/dL   \n",
       "4  Carbs  Mar 11, 2021 8:01:00 am       26 g   \n",
       "\n",
       "                                               notes  \n",
       "0                                        Before Meal  \n",
       "1  No Tag, 20 minutes late... Struggled with punc...  \n",
       "2                                             No Tag  \n",
       "3  No Tag, Might have tested slightly before an h...  \n",
       "4                                                     "
      ]
     },
     "execution_count": 7,
     "metadata": {},
     "output_type": "execute_result"
    }
   ],
   "source": [
    "data.head()"
   ]
  },
  {
   "cell_type": "markdown",
   "metadata": {},
   "source": [
    "**Let's fix some datatypes!**"
   ]
  },
  {
   "cell_type": "code",
   "execution_count": 9,
   "metadata": {},
   "outputs": [
    {
     "data": {
      "text/plain": [
       "type         object\n",
       "timestamp    object\n",
       "value        object\n",
       "notes        object\n",
       "dtype: object"
      ]
     },
     "execution_count": 9,
     "metadata": {},
     "output_type": "execute_result"
    }
   ],
   "source": [
    "data.dtypes"
   ]
  },
  {
   "cell_type": "code",
   "execution_count": 14,
   "metadata": {},
   "outputs": [],
   "source": [
    "data.timestamp = pd.to_datetime(data.timestamp)"
   ]
  },
  {
   "cell_type": "code",
   "execution_count": 22,
   "metadata": {},
   "outputs": [],
   "source": [
    "data.value = data.value.str.extract('(\\d+)', expand=False).astype(int)"
   ]
  },
  {
   "cell_type": "code",
   "execution_count": 23,
   "metadata": {},
   "outputs": [
    {
     "data": {
      "text/plain": [
       "type                 object\n",
       "timestamp    datetime64[ns]\n",
       "value                 int64\n",
       "notes                object\n",
       "dtype: object"
      ]
     },
     "execution_count": 23,
     "metadata": {},
     "output_type": "execute_result"
    }
   ],
   "source": [
    "data.dtypes"
   ]
  },
  {
   "cell_type": "markdown",
   "metadata": {},
   "source": [
    "**How about an index? Since this is a timeseries it should be the tim**"
   ]
  },
  {
   "cell_type": "code",
   "execution_count": 30,
   "metadata": {},
   "outputs": [],
   "source": [
    "data.set_index('timestamp', inplace=True)"
   ]
  },
  {
   "cell_type": "code",
   "execution_count": 32,
   "metadata": {},
   "outputs": [
    {
     "data": {
      "text/plain": [
       "(726, 726)"
      ]
     },
     "execution_count": 32,
     "metadata": {},
     "output_type": "execute_result"
    }
   ],
   "source": [
    "len(data.index.unique()), len(data)"
   ]
  },
  {
   "cell_type": "code",
   "execution_count": null,
   "metadata": {},
   "outputs": [],
   "source": []
  }
 ],
 "metadata": {
  "kernelspec": {
   "display_name": "Python 3",
   "language": "python",
   "name": "python3"
  },
  "language_info": {
   "codemirror_mode": {
    "name": "ipython",
    "version": 3
   },
   "file_extension": ".py",
   "mimetype": "text/x-python",
   "name": "python",
   "nbconvert_exporter": "python",
   "pygments_lexer": "ipython3",
   "version": "3.8.3"
  }
 },
 "nbformat": 4,
 "nbformat_minor": 4
}
